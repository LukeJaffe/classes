{
 "cells": [
  {
   "cell_type": "markdown",
   "metadata": {},
   "source": [
    "# Softmax exercise\n",
    "\n",
    "*Complete and hand in this completed worksheet (including its outputs and any supporting code outside of the worksheet) with your assignment submission. For more details see the [assignments page](http://vision.stanford.edu/teaching/cs231n/assignments.html) on the course website.*\n",
    "\n",
    "This exercise is analogous to the SVM exercise. You will:\n",
    "\n",
    "- implement a fully-vectorized **loss function** for the Softmax classifier\n",
    "- implement the fully-vectorized expression for its **analytic gradient**\n",
    "- **check your implementation** with numerical gradient\n",
    "- use a validation set to **tune the learning rate and regularization** strength\n",
    "- **optimize** the loss function with **SGD**\n",
    "- **visualize** the final learned weights\n"
   ]
  },
  {
   "cell_type": "code",
   "execution_count": 1,
   "metadata": {},
   "outputs": [],
   "source": [
    "import random\n",
    "import numpy as np\n",
    "from cs231n.data_utils import load_CIFAR10\n",
    "import matplotlib.pyplot as plt\n",
    "\n",
    "from __future__ import print_function\n",
    "\n",
    "%matplotlib inline\n",
    "plt.rcParams['figure.figsize'] = (10.0, 8.0) # set default size of plots\n",
    "plt.rcParams['image.interpolation'] = 'nearest'\n",
    "plt.rcParams['image.cmap'] = 'gray'\n",
    "\n",
    "# for auto-reloading extenrnal modules\n",
    "# see http://stackoverflow.com/questions/1907993/autoreload-of-modules-in-ipython\n",
    "%load_ext autoreload\n",
    "%autoreload 2"
   ]
  },
  {
   "cell_type": "code",
   "execution_count": 2,
   "metadata": {},
   "outputs": [
    {
     "name": "stdout",
     "output_type": "stream",
     "text": [
      "Train data shape:  (49000, 3073)\n",
      "Train labels shape:  (49000,)\n",
      "Validation data shape:  (1000, 3073)\n",
      "Validation labels shape:  (1000,)\n",
      "Test data shape:  (1000, 3073)\n",
      "Test labels shape:  (1000,)\n",
      "dev data shape:  (500, 3073)\n",
      "dev labels shape:  (500,)\n"
     ]
    }
   ],
   "source": [
    "def get_CIFAR10_data(num_training=49000, num_validation=1000, num_test=1000, num_dev=500):\n",
    "    \"\"\"\n",
    "    Load the CIFAR-10 dataset from disk and perform preprocessing to prepare\n",
    "    it for the linear classifier. These are the same steps as we used for the\n",
    "    SVM, but condensed to a single function.  \n",
    "    \"\"\"\n",
    "    # Load the raw CIFAR-10 data\n",
    "    cifar10_dir = 'cs231n/datasets/cifar-10-batches-py'\n",
    "    X_train, y_train, X_test, y_test = load_CIFAR10(cifar10_dir)\n",
    "    \n",
    "    # subsample the data\n",
    "    mask = list(range(num_training, num_training + num_validation))\n",
    "    X_val = X_train[mask]\n",
    "    y_val = y_train[mask]\n",
    "    mask = list(range(num_training))\n",
    "    X_train = X_train[mask]\n",
    "    y_train = y_train[mask]\n",
    "    mask = list(range(num_test))\n",
    "    X_test = X_test[mask]\n",
    "    y_test = y_test[mask]\n",
    "    mask = np.random.choice(num_training, num_dev, replace=False)\n",
    "    X_dev = X_train[mask]\n",
    "    y_dev = y_train[mask]\n",
    "    \n",
    "    # Preprocessing: reshape the image data into rows\n",
    "    X_train = np.reshape(X_train, (X_train.shape[0], -1))\n",
    "    X_val = np.reshape(X_val, (X_val.shape[0], -1))\n",
    "    X_test = np.reshape(X_test, (X_test.shape[0], -1))\n",
    "    X_dev = np.reshape(X_dev, (X_dev.shape[0], -1))\n",
    "    \n",
    "    # Normalize the data: subtract the mean image\n",
    "    mean_image = np.mean(X_train, axis = 0)\n",
    "    X_train -= mean_image\n",
    "    X_val -= mean_image\n",
    "    X_test -= mean_image\n",
    "    X_dev -= mean_image\n",
    "    \n",
    "    # add bias dimension and transform into columns\n",
    "    X_train = np.hstack([X_train, np.ones((X_train.shape[0], 1))])\n",
    "    X_val = np.hstack([X_val, np.ones((X_val.shape[0], 1))])\n",
    "    X_test = np.hstack([X_test, np.ones((X_test.shape[0], 1))])\n",
    "    X_dev = np.hstack([X_dev, np.ones((X_dev.shape[0], 1))])\n",
    "    \n",
    "    return X_train, y_train, X_val, y_val, X_test, y_test, X_dev, y_dev\n",
    "\n",
    "\n",
    "# Invoke the above function to get our data.\n",
    "X_train, y_train, X_val, y_val, X_test, y_test, X_dev, y_dev = get_CIFAR10_data()\n",
    "print('Train data shape: ', X_train.shape)\n",
    "print('Train labels shape: ', y_train.shape)\n",
    "print('Validation data shape: ', X_val.shape)\n",
    "print('Validation labels shape: ', y_val.shape)\n",
    "print('Test data shape: ', X_test.shape)\n",
    "print('Test labels shape: ', y_test.shape)\n",
    "print('dev data shape: ', X_dev.shape)\n",
    "print('dev labels shape: ', y_dev.shape)"
   ]
  },
  {
   "cell_type": "markdown",
   "metadata": {},
   "source": [
    "## Softmax Classifier\n",
    "\n",
    "Your code for this section will all be written inside **cs231n/classifiers/softmax.py**. \n"
   ]
  },
  {
   "cell_type": "code",
   "execution_count": 29,
   "metadata": {},
   "outputs": [
    {
     "name": "stdout",
     "output_type": "stream",
     "text": [
      "loss: 2.384209\n",
      "sanity check: 2.302585\n"
     ]
    }
   ],
   "source": [
    "# First implement the naive softmax loss function with nested loops.\n",
    "# Open the file cs231n/classifiers/softmax.py and implement the\n",
    "# softmax_loss_naive function.\n",
    "\n",
    "from cs231n.classifiers.softmax import softmax_loss_naive\n",
    "import time\n",
    "\n",
    "# Generate a random softmax weight matrix and use it to compute the loss.\n",
    "W = np.random.randn(3073, 10) * 0.0001\n",
    "loss, grad = softmax_loss_naive(W, X_dev, y_dev, 0.0)\n",
    "\n",
    "# As a rough sanity check, our loss should be something close to -log(0.1).\n",
    "print('loss: %f' % loss)\n",
    "print('sanity check: %f' % (-np.log(0.1)))"
   ]
  },
  {
   "cell_type": "markdown",
   "metadata": {},
   "source": [
    "## Inline Question 1:\n",
    "Why do we expect our loss to be close to -log(0.1)? Explain briefly.**\n",
    "\n",
    "**Your answer:** \n",
    "Since the weight matrix W is close to all 0s, the softmax loss term simplifies to -log(e^0/sumj(e^0)) = -log(1/10) = -log(0.1)"
   ]
  },
  {
   "cell_type": "code",
   "execution_count": 30,
   "metadata": {},
   "outputs": [
    {
     "name": "stdout",
     "output_type": "stream",
     "text": [
      "numerical: -2.318474 analytic: -2.318474, relative error: 1.140578e-08\n",
      "numerical: 3.410615 analytic: 3.410615, relative error: 2.128936e-08\n",
      "numerical: -0.309675 analytic: -0.309674, relative error: 1.545034e-07\n",
      "numerical: 2.409213 analytic: 2.409213, relative error: 3.993816e-09\n",
      "numerical: -1.475394 analytic: -1.475394, relative error: 5.119469e-08\n",
      "numerical: -3.095604 analytic: -3.095605, relative error: 3.207911e-08\n",
      "numerical: -1.100429 analytic: -1.100429, relative error: 6.498763e-09\n",
      "numerical: 1.061528 analytic: 1.061528, relative error: 4.020161e-09\n",
      "numerical: -0.322989 analytic: -0.322989, relative error: 1.148490e-07\n",
      "numerical: 0.239524 analytic: 0.239524, relative error: 4.243010e-07\n",
      "numerical: -2.199795 analytic: -2.199795, relative error: 7.008440e-10\n",
      "numerical: -2.260865 analytic: -2.260865, relative error: 4.593258e-09\n",
      "numerical: -2.137853 analytic: -2.137853, relative error: 2.157046e-08\n",
      "numerical: -0.065824 analytic: -0.065824, relative error: 1.484664e-07\n",
      "numerical: -4.210561 analytic: -4.210561, relative error: 1.695295e-08\n",
      "numerical: -1.064105 analytic: -1.064105, relative error: 9.934692e-09\n",
      "numerical: 0.122216 analytic: 0.122216, relative error: 1.019446e-07\n",
      "numerical: 3.822652 analytic: 3.822652, relative error: 2.075839e-08\n",
      "numerical: -0.484797 analytic: -0.484797, relative error: 4.057839e-08\n",
      "numerical: -1.694043 analytic: -1.694043, relative error: 7.562189e-09\n"
     ]
    }
   ],
   "source": [
    "# Complete the implementation of softmax_loss_naive and implement a (naive)\n",
    "# version of the gradient that uses nested loops.\n",
    "loss, grad = softmax_loss_naive(W, X_dev, y_dev, 0.0)\n",
    "\n",
    "# As we did for the SVM, use numeric gradient checking as a debugging tool.\n",
    "# The numeric gradient should be close to the analytic gradient.\n",
    "from cs231n.gradient_check import grad_check_sparse\n",
    "f = lambda w: softmax_loss_naive(w, X_dev, y_dev, 0.0)[0]\n",
    "grad_numerical = grad_check_sparse(f, W, grad, 10)\n",
    "\n",
    "# similar to SVM case, do another gradient check with regularization\n",
    "loss, grad = softmax_loss_naive(W, X_dev, y_dev, 5e1)\n",
    "f = lambda w: softmax_loss_naive(w, X_dev, y_dev, 5e1)[0]\n",
    "grad_numerical = grad_check_sparse(f, W, grad, 10)"
   ]
  },
  {
   "cell_type": "code",
   "execution_count": 80,
   "metadata": {},
   "outputs": [
    {
     "name": "stdout",
     "output_type": "stream",
     "text": [
      "naive loss: 2.384209e+00 computed in 0.201823s\n",
      "vectorized loss: 2.384209e+00 computed in 0.034457s\n",
      "Loss difference: 0.000000\n",
      "Gradient difference: 0.000000\n"
     ]
    }
   ],
   "source": [
    "# Now that we have a naive implementation of the softmax loss function and its gradient,\n",
    "# implement a vectorized version in softmax_loss_vectorized.\n",
    "# The two versions should compute the same results, but the vectorized version should be\n",
    "# much faster.\n",
    "tic = time.time()\n",
    "loss_naive, grad_naive = softmax_loss_naive(W, X_dev, y_dev, 0.000005)\n",
    "toc = time.time()\n",
    "print('naive loss: %e computed in %fs' % (loss_naive, toc - tic))\n",
    "\n",
    "from cs231n.classifiers.softmax import softmax_loss_vectorized\n",
    "tic = time.time()\n",
    "loss_vectorized, grad_vectorized = softmax_loss_vectorized(W, X_dev, y_dev, 0.000005)\n",
    "toc = time.time()\n",
    "print('vectorized loss: %e computed in %fs' % (loss_vectorized, toc - tic))\n",
    "\n",
    "# As we did for the SVM, we use the Frobenius norm to compare the two versions\n",
    "# of the gradient.\n",
    "grad_difference = np.linalg.norm(grad_naive - grad_vectorized, ord='fro')\n",
    "print('Loss difference: %f' % np.abs(loss_naive - loss_vectorized))\n",
    "print('Gradient difference: %f' % grad_difference)"
   ]
  },
  {
   "cell_type": "code",
   "execution_count": 84,
   "metadata": {},
   "outputs": [
    {
     "name": "stdout",
     "output_type": "stream",
     "text": [
      "train acc: 0.161653061224, val acc: 0.191\n",
      "train acc: 0.157612244898, val acc: 0.176\n",
      "train acc: 0.155632653061, val acc: 0.159\n",
      "train acc: 0.160040816327, val acc: 0.17\n",
      "train acc: 0.183020408163, val acc: 0.166\n",
      "train acc: 0.196836734694, val acc: 0.167\n",
      "train acc: 0.211183673469, val acc: 0.198\n",
      "train acc: 0.239, val acc: 0.228\n",
      "train acc: 0.262020408163, val acc: 0.29\n",
      "train acc: 0.275979591837, val acc: 0.273\n",
      "train acc: 0.21487755102, val acc: 0.214\n",
      "train acc: 0.256326530612, val acc: 0.267\n",
      "train acc: 0.323673469388, val acc: 0.331\n",
      "train acc: 0.332306122449, val acc: 0.341\n",
      "train acc: 0.32587755102, val acc: 0.336\n",
      "train acc: 0.250387755102, val acc: 0.258\n",
      "train acc: 0.294959183673, val acc: 0.302\n",
      "train acc: 0.348040816327, val acc: 0.356\n",
      "train acc: 0.337734693878, val acc: 0.351\n",
      "train acc: 0.327428571429, val acc: 0.347\n",
      "train acc: 0.263346938776, val acc: 0.262\n",
      "train acc: 0.335387755102, val acc: 0.349\n",
      "train acc: 0.346387755102, val acc: 0.358\n",
      "train acc: 0.339081632653, val acc: 0.357\n",
      "train acc: 0.328408163265, val acc: 0.344\n",
      "lr 1.000000e-08 reg 1.000000e+03 train accuracy: 0.161653 val accuracy: 0.191000\n",
      "lr 1.000000e-08 reg 5.000000e+03 train accuracy: 0.157612 val accuracy: 0.176000\n",
      "lr 1.000000e-08 reg 1.500000e+04 train accuracy: 0.155633 val accuracy: 0.159000\n",
      "lr 1.000000e-08 reg 2.000000e+04 train accuracy: 0.160041 val accuracy: 0.170000\n",
      "lr 1.000000e-08 reg 2.500000e+04 train accuracy: 0.183020 val accuracy: 0.166000\n",
      "lr 2.500000e-08 reg 1.000000e+03 train accuracy: 0.196837 val accuracy: 0.167000\n",
      "lr 2.500000e-08 reg 5.000000e+03 train accuracy: 0.211184 val accuracy: 0.198000\n",
      "lr 2.500000e-08 reg 1.500000e+04 train accuracy: 0.239000 val accuracy: 0.228000\n",
      "lr 2.500000e-08 reg 2.000000e+04 train accuracy: 0.262020 val accuracy: 0.290000\n",
      "lr 2.500000e-08 reg 2.500000e+04 train accuracy: 0.275980 val accuracy: 0.273000\n",
      "lr 5.000000e-08 reg 1.000000e+03 train accuracy: 0.214878 val accuracy: 0.214000\n",
      "lr 5.000000e-08 reg 5.000000e+03 train accuracy: 0.256327 val accuracy: 0.267000\n",
      "lr 5.000000e-08 reg 1.500000e+04 train accuracy: 0.323673 val accuracy: 0.331000\n",
      "lr 5.000000e-08 reg 2.000000e+04 train accuracy: 0.332306 val accuracy: 0.341000\n",
      "lr 5.000000e-08 reg 2.500000e+04 train accuracy: 0.325878 val accuracy: 0.336000\n",
      "lr 7.500000e-08 reg 1.000000e+03 train accuracy: 0.250388 val accuracy: 0.258000\n",
      "lr 7.500000e-08 reg 5.000000e+03 train accuracy: 0.294959 val accuracy: 0.302000\n",
      "lr 7.500000e-08 reg 1.500000e+04 train accuracy: 0.348041 val accuracy: 0.356000\n",
      "lr 7.500000e-08 reg 2.000000e+04 train accuracy: 0.337735 val accuracy: 0.351000\n",
      "lr 7.500000e-08 reg 2.500000e+04 train accuracy: 0.327429 val accuracy: 0.347000\n",
      "lr 1.000000e-07 reg 1.000000e+03 train accuracy: 0.263347 val accuracy: 0.262000\n",
      "lr 1.000000e-07 reg 5.000000e+03 train accuracy: 0.335388 val accuracy: 0.349000\n",
      "lr 1.000000e-07 reg 1.500000e+04 train accuracy: 0.346388 val accuracy: 0.358000\n",
      "lr 1.000000e-07 reg 2.000000e+04 train accuracy: 0.339082 val accuracy: 0.357000\n",
      "lr 1.000000e-07 reg 2.500000e+04 train accuracy: 0.328408 val accuracy: 0.344000\n",
      "best validation accuracy achieved during cross-validation: 0.358000\n"
     ]
    }
   ],
   "source": [
    "# Use the validation set to tune hyperparameters (regularization strength and\n",
    "# learning rate). You should experiment with different ranges for the learning\n",
    "# rates and regularization strengths; if you are careful you should be able to\n",
    "# get a classification accuracy of over 0.35 on the validation set.\n",
    "from cs231n.classifiers import Softmax\n",
    "results = {}\n",
    "best_val = -1\n",
    "best_softmax = None\n",
    "learning_rates = [1e-8, 2.5e-8, 5e-8, 7.5e-8, 1e-7]\n",
    "regularization_strengths = [1e3, 0.5e4, 1.5e4, 2e4, 2.5e4]\n",
    "\n",
    "################################################################################\n",
    "# TODO:                                                                        #\n",
    "# Use the validation set to set the learning rate and regularization strength. #\n",
    "# This should be identical to the validation that you did for the SVM; save    #\n",
    "# the best trained softmax classifer in best_softmax.                          #\n",
    "################################################################################\n",
    "for lr in learning_rates:\n",
    "    for rs in regularization_strengths:\n",
    "        # Train Softmax\n",
    "        sm = Softmax()\n",
    "        loss_hist = sm.train(X_train, y_train, learning_rate=lr, \n",
    "                        reg=rs, num_iters=1500, verbose=False)\n",
    "        # Test Softmax\n",
    "        y_train_pred = sm.predict(X_train)\n",
    "        train_acc = np.mean(y_train == y_train_pred)\n",
    "        y_val_pred = sm.predict(X_val)\n",
    "        val_acc = np.mean(y_val == y_val_pred)\n",
    "        results[(lr, rs)] = (train_acc, val_acc)\n",
    "        print(\"train acc: {}, val acc: {}\".format(train_acc, val_acc))\n",
    "        # Check for new best\n",
    "        if val_acc > best_val:\n",
    "            best_val = val_acc\n",
    "            best_softmax = sm\n",
    "################################################################################\n",
    "#                              END OF YOUR CODE                                #\n",
    "################################################################################\n",
    "    \n",
    "# Print out results.\n",
    "for lr, reg in sorted(results):\n",
    "    train_accuracy, val_accuracy = results[(lr, reg)]\n",
    "    print('lr %e reg %e train accuracy: %f val accuracy: %f' % (\n",
    "                lr, reg, train_accuracy, val_accuracy))\n",
    "    \n",
    "print('best validation accuracy achieved during cross-validation: %f' % best_val)"
   ]
  },
  {
   "cell_type": "code",
   "execution_count": 85,
   "metadata": {},
   "outputs": [
    {
     "name": "stdout",
     "output_type": "stream",
     "text": [
      "softmax on raw pixels final test set accuracy: 0.360000\n"
     ]
    }
   ],
   "source": [
    "# evaluate on test set\n",
    "# Evaluate the best softmax on test set\n",
    "y_test_pred = best_softmax.predict(X_test)\n",
    "test_accuracy = np.mean(y_test == y_test_pred)\n",
    "print('softmax on raw pixels final test set accuracy: %f' % (test_accuracy, ))"
   ]
  },
  {
   "cell_type": "code",
   "execution_count": 86,
   "metadata": {},
   "outputs": [
    {
     "data": {
      "image/png": "[encoded data removed]",
      "text/plain": [
       "<matplotlib.figure.Figure at 0x7f344e941590>"
      ]
     },
     "metadata": {},
     "output_type": "display_data"
    }
   ],
   "source": [
    "# Visualize the learned weights for each class\n",
    "w = best_softmax.W[:-1,:] # strip out the bias\n",
    "w = w.reshape(32, 32, 3, 10)\n",
    "\n",
    "w_min, w_max = np.min(w), np.max(w)\n",
    "\n",
    "classes = ['plane', 'car', 'bird', 'cat', 'deer', 'dog', 'frog', 'horse', 'ship', 'truck']\n",
    "for i in range(10):\n",
    "    plt.subplot(2, 5, i + 1)\n",
    "    \n",
    "    # Rescale the weights to be between 0 and 255\n",
    "    wimg = 255.0 * (w[:, :, :, i].squeeze() - w_min) / (w_max - w_min)\n",
    "    plt.imshow(wimg.astype('uint8'))\n",
    "    plt.axis('off')\n",
    "    plt.title(classes[i])"
   ]
  },
  {
   "cell_type": "code",
   "execution_count": null,
   "metadata": {
    "collapsed": true
   },
   "outputs": [],
   "source": []
  }
 ],
 "metadata": {
  "kernelspec": {
   "display_name": "Python 2",
   "language": "python",
   "name": "python2"
  },
  "language_info": {
   "codemirror_mode": {
    "name": "ipython",
    "version": 2
   },
   "file_extension": ".py",
   "mimetype": "text/x-python",
   "name": "python",
   "nbconvert_exporter": "python",
   "pygments_lexer": "ipython2",
   "version": "2.7.6"
  }
 },
 "nbformat": 4,
 "nbformat_minor": 1
}
